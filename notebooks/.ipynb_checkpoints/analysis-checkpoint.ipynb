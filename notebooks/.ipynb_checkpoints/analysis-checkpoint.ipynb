{
 "cells": [
  {
   "cell_type": "code",
   "execution_count": 1,
   "metadata": {},
   "outputs": [],
   "source": [
    "%load_ext autoreload\n",
    "%autoreload 2\n",
    "\n",
    "import json\n",
    "import os\n",
    "from pathlib import Path\n",
    "\n",
    "import matplotlib.pyplot as plt\n",
    "import numpy as np\n",
    "import requests\n",
    "import pandas as pd\n",
    "from ipywidgets import interact\n",
    "import altair as alt\n",
    "\n",
    "if os.getcwd().split('/')[-1] == 'notebooks':\n",
    "    os.chdir('..')\n",
    "\n",
    "plt.style.use('ggplot')\n",
    "alt.themes.enable('fivethirtyeight')\n",
    "CHARTS_DIR = Path('../covid19-analysis/layouts/partials/covid')"
   ]
  },
  {
   "cell_type": "code",
   "execution_count": 2,
   "metadata": {},
   "outputs": [
    {
     "data": {
      "text/html": [
       "<div>\n",
       "<style scoped>\n",
       "    .dataframe tbody tr th:only-of-type {\n",
       "        vertical-align: middle;\n",
       "    }\n",
       "\n",
       "    .dataframe tbody tr th {\n",
       "        vertical-align: top;\n",
       "    }\n",
       "\n",
       "    .dataframe thead th {\n",
       "        text-align: right;\n",
       "    }\n",
       "</style>\n",
       "<table border=\"1\" class=\"dataframe\">\n",
       "  <thead>\n",
       "    <tr style=\"text-align: right;\">\n",
       "      <th></th>\n",
       "      <th></th>\n",
       "      <th>confirmed</th>\n",
       "      <th>deaths</th>\n",
       "      <th>recovered</th>\n",
       "    </tr>\n",
       "    <tr>\n",
       "      <th>country</th>\n",
       "      <th>date</th>\n",
       "      <th></th>\n",
       "      <th></th>\n",
       "      <th></th>\n",
       "    </tr>\n",
       "  </thead>\n",
       "  <tbody>\n",
       "    <tr>\n",
       "      <th rowspan=\"5\" valign=\"top\">Afghanistan</th>\n",
       "      <th>2020-01-22</th>\n",
       "      <td>0</td>\n",
       "      <td>0</td>\n",
       "      <td>0</td>\n",
       "    </tr>\n",
       "    <tr>\n",
       "      <th>2020-01-23</th>\n",
       "      <td>0</td>\n",
       "      <td>0</td>\n",
       "      <td>0</td>\n",
       "    </tr>\n",
       "    <tr>\n",
       "      <th>2020-01-24</th>\n",
       "      <td>0</td>\n",
       "      <td>0</td>\n",
       "      <td>0</td>\n",
       "    </tr>\n",
       "    <tr>\n",
       "      <th>2020-01-25</th>\n",
       "      <td>0</td>\n",
       "      <td>0</td>\n",
       "      <td>0</td>\n",
       "    </tr>\n",
       "    <tr>\n",
       "      <th>2020-01-26</th>\n",
       "      <td>0</td>\n",
       "      <td>0</td>\n",
       "      <td>0</td>\n",
       "    </tr>\n",
       "  </tbody>\n",
       "</table>\n",
       "</div>"
      ],
      "text/plain": [
       "                        confirmed  deaths  recovered\n",
       "country     date                                    \n",
       "Afghanistan 2020-01-22          0       0          0\n",
       "            2020-01-23          0       0          0\n",
       "            2020-01-24          0       0          0\n",
       "            2020-01-25          0       0          0\n",
       "            2020-01-26          0       0          0"
      ]
     },
     "metadata": {},
     "output_type": "display_data"
    },
    {
     "data": {
      "text/plain": [
       "country      date        kind     \n",
       "Afghanistan  2020-01-22  confirmed    0\n",
       "                         deaths       0\n",
       "                         recovered    0\n",
       "             2020-01-23  confirmed    0\n",
       "                         deaths       0\n",
       "Name: count, dtype: int64"
      ]
     },
     "metadata": {},
     "output_type": "display_data"
    }
   ],
   "source": [
    "from fetch import fetch_timeseries, TS_URL\n",
    "\n",
    "df = fetch_timeseries(TS_URL)\n",
    "df_long = df.stack().rename('count').rename_axis(index={None: 'kind'})\n",
    "\n",
    "display(df.head())\n",
    "display(df_long.head())\n",
    "\n",
    "# Timeseries"
   ]
  },
  {
   "cell_type": "code",
   "execution_count": 4,
   "metadata": {},
   "outputs": [
    {
     "data": {
      "text/html": [
       "\n",
       "<div id=\"altair-viz-ea3cc7953e1847c98d589a0ab50d505d\"></div>\n",
       "<script type=\"text/javascript\">\n",
       "  (function(spec, embedOpt){\n",
       "    const outputDiv = document.getElementById(\"altair-viz-ea3cc7953e1847c98d589a0ab50d505d\");\n",
       "    const paths = {\n",
       "      \"vega\": \"https://cdn.jsdelivr.net/npm//vega@5?noext\",\n",
       "      \"vega-lib\": \"https://cdn.jsdelivr.net/npm//vega-lib?noext\",\n",
       "      \"vega-lite\": \"https://cdn.jsdelivr.net/npm//vega-lite@4.0.2?noext\",\n",
       "      \"vega-embed\": \"https://cdn.jsdelivr.net/npm//vega-embed@6?noext\",\n",
       "    };\n",
       "\n",
       "    function loadScript(lib) {\n",
       "      return new Promise(function(resolve, reject) {\n",
       "        var s = document.createElement('script');\n",
       "        s.src = paths[lib];\n",
       "        s.async = true;\n",
       "        s.onload = () => resolve(paths[lib]);\n",
       "        s.onerror = () => reject(`Error loading script: ${paths[lib]}`);\n",
       "        document.getElementsByTagName(\"head\")[0].appendChild(s);\n",
       "      });\n",
       "    }\n",
       "\n",
       "    function showError(err) {\n",
       "      outputDiv.innerHTML = `<div class=\"error\" style=\"color:red;\">${err}</div>`;\n",
       "      throw err;\n",
       "    }\n",
       "\n",
       "    function displayChart(vegaEmbed) {\n",
       "      vegaEmbed(outputDiv, spec, embedOpt)\n",
       "        .catch(err => showError(`Javascript Error: ${err.message}<br>This usually means there's a typo in your chart specification. See the javascript console for the full traceback.`));\n",
       "    }\n",
       "\n",
       "    if(typeof define === \"function\" && define.amd) {\n",
       "      requirejs.config({paths});\n",
       "      require([\"vega-embed\"], displayChart, err => showError(`Error loading script: ${err.message}`));\n",
       "    } else if (typeof vegaEmbed === \"function\") {\n",
       "      displayChart(vegaEmbed);\n",
       "    } else {\n",
       "      loadScript(\"vega\")\n",
       "        .then(() => loadScript(\"vega-lite\"))\n",
       "        .then(() => loadScript(\"vega-embed\"))\n",
       "        .catch(showError)\n",
       "        .then(() => displayChart(vegaEmbed));\n",
       "    }\n",
       "  })({\"usermeta\": {\"embedOptions\": {\"theme\": \"fivethirtyeight\"}}, \"config\": {\"view\": {\"continuousWidth\": 400, \"continuousHeight\": 300}}, \"hconcat\": [{\"data\": {\"url\": \"https://vega.github.io/vega-datasets/data/world-110m.json\", \"format\": {\"feature\": \"countries\", \"type\": \"topojson\"}}, \"mark\": {\"type\": \"geoshape\", \"stroke\": \"white\", \"strokeWidth\": 0.5}, \"encoding\": {\"color\": {\"condition\": {\"type\": \"quantitative\", \"field\": \"count\", \"scale\": {\"scheme\": \"reds\"}, \"selection\": \"Country of\"}, \"value\": \"lightgray\"}, \"tooltip\": [{\"type\": \"quantitative\", \"field\": \"count\"}, {\"type\": \"nominal\", \"field\": \"country\"}, {\"type\": \"temporal\", \"field\": \"date\"}, {\"type\": \"quantitative\", \"field\": \"day\"}]}, \"height\": 400, \"selection\": {\"Country of\": {\"type\": \"single\", \"fields\": [\"country\"], \"empty\": \"all\"}, \"selector005\": {\"type\": \"single\", \"fields\": [\"kind\"], \"bind\": \"legend\", \"empty\": \"all\"}}, \"transform\": [{\"lookup\": \"id\", \"from\": {\"data\": {\"url\": \"http://localhost:16341/acf41d6538ebf29fb061a8c0efd84280.json\"}, \"key\": \"id\", \"fields\": [\"count\", \"kind\", \"country\", \"day\", \"date\"]}}, {\"filter\": {\"selection\": \"selector005\"}}], \"width\": 700}, {\"layer\": [{\"mark\": {\"type\": \"line\", \"point\": true}, \"encoding\": {\"color\": {\"type\": \"nominal\", \"field\": \"kind\"}, \"opacity\": {\"condition\": {\"value\": 1, \"selection\": \"selector007\"}, \"value\": 0.2}, \"x\": {\"type\": \"temporal\", \"field\": \"date\"}, \"y\": {\"type\": \"quantitative\", \"field\": \"count\"}}, \"selection\": {\"selector007\": {\"type\": \"single\", \"fields\": [\"kind\"], \"bind\": \"legend\", \"empty\": \"all\"}, \"Country of\": {\"type\": \"single\", \"fields\": [\"country\"], \"empty\": \"all\"}}}, {\"mark\": \"rule\", \"encoding\": {\"opacity\": {\"condition\": {\"value\": 0.3, \"selection\": \"selector008\"}, \"value\": 0}, \"tooltip\": [{\"type\": \"quantitative\", \"field\": \"confirmed\"}, {\"type\": \"quantitative\", \"field\": \"deaths\"}, {\"type\": \"quantitative\", \"field\": \"recovered\"}], \"x\": {\"type\": \"temporal\", \"field\": \"date\"}}, \"selection\": {\"selector008\": {\"type\": \"single\", \"fields\": [\"date\"], \"nearest\": true, \"on\": \"mouseover\", \"empty\": \"none\", \"clear\": \"mouseout\"}}, \"transform\": [{\"pivot\": \"kind\", \"value\": \"count\", \"groupby\": [\"date\"]}]}, {\"mark\": \"point\", \"encoding\": {\"color\": {\"type\": \"nominal\", \"field\": \"kind\"}, \"x\": {\"type\": \"temporal\", \"field\": \"date\"}, \"y\": {\"type\": \"quantitative\", \"field\": \"count\"}}, \"transform\": [{\"filter\": {\"selection\": \"selector008\"}}]}], \"data\": {\"url\": \"http://localhost:16341/4f11c77425b681a96671d50e4b047d55.json\"}, \"height\": 400, \"transform\": [{\"filter\": {\"selection\": \"Country of\"}}, {\"aggregate\": [{\"op\": \"sum\", \"field\": \"count\", \"as\": \"count\"}], \"groupby\": [\"kind\", \"date\"]}], \"width\": 700}], \"$schema\": \"https://vega.github.io/schema/vega-lite/v4.0.2.json\"}, {\"mode\": \"vega-lite\"});\n",
       "</script>"
      ],
      "text/plain": [
       "alt.HConcatChart(...)"
      ]
     },
     "execution_count": 4,
     "metadata": {},
     "output_type": "execute_result"
    }
   ],
   "source": [
    "from IPython.display import display\n",
    "from charts import make_ts_chart, make_ts_selections, make_data_long\n",
    "from charts import make_map, kind_schemes, make_map_data, countries, make_map_data\n",
    "\n",
    "# alt.data_transformers.enable('default', max_rows=None)\n",
    "alt.data_transformers.enable('data_server')\n",
    "alt.renderers.enable('html')\n",
    "\n",
    "data_long = make_data_long(df_long)\n",
    "selection_legend, selection_tooltip = make_ts_selections(data_long)\n",
    "ts_chart = make_ts_chart(data_long, *make_ts_selections(data_long))\n",
    "ts_chart\n",
    "\n",
    "# Map\n",
    "\n",
    "map_data = make_map_data(data_long, countries)\n",
    "map_chart = make_map(map_data, kind_schemes)\n",
    "\n",
    "selection_country_click = alt.selection_single(\n",
    "    fields=['country'],\n",
    "    name='Country of',\n",
    "    empty='all',\n",
    ")\n",
    "\n",
    "chart = (map_chart\n",
    " .encode(color=alt.condition(selection_country_click, 'count:Q', alt.value('lightgray'), scale=alt.Scale(scheme='reds')))\n",
    " .add_selection(selection_country_click)\n",
    " .add_selection(selection_legend)\n",
    " .transform_filter(selection_legend)\n",
    "         .properties(width=700, height=400)\n",
    " | \n",
    "         ts_chart.add_selection(selection_country_click)\n",
    "         .transform_filter(selection_country_click)\n",
    "         .transform_aggregate(\n",
    "            count='sum(count)',\n",
    "            groupby=['kind', 'date']\n",
    "         ).properties(width=700, height=400)\n",
    ")\n",
    "\n",
    "chart.save(str(CHARTS_DIR / 'combined.html'))\n",
    "chart"
   ]
  },
  {
   "cell_type": "markdown",
   "metadata": {},
   "source": [
    "# Correlations"
   ]
  },
  {
   "cell_type": "code",
   "execution_count": 5,
   "metadata": {},
   "outputs": [
    {
     "data": {
      "text/plain": [
       "<matplotlib.axes._subplots.AxesSubplot at 0x7f2db10502b0>"
      ]
     },
     "execution_count": 5,
     "metadata": {},
     "output_type": "execute_result"
    },
    {
     "data": {
      "image/png": "[encoded data removed]",
      "text/plain": [
       "<Figure size 432x288 with 2 Axes>"
      ]
     },
     "metadata": {},
     "output_type": "display_data"
    }
   ],
   "source": [
    "import seaborn as sns\n",
    "\n",
    "df.groupby('country').apply(lambda f: f.fillna(method='ffill')).fillna(0).corr().pipe(sns.heatmap, annot=True)"
   ]
  },
  {
   "cell_type": "code",
   "execution_count": 6,
   "metadata": {},
   "outputs": [
    {
     "data": {
      "text/html": [
       "<div>\n",
       "<style scoped>\n",
       "    .dataframe tbody tr th:only-of-type {\n",
       "        vertical-align: middle;\n",
       "    }\n",
       "\n",
       "    .dataframe tbody tr th {\n",
       "        vertical-align: top;\n",
       "    }\n",
       "\n",
       "    .dataframe thead th {\n",
       "        text-align: right;\n",
       "    }\n",
       "</style>\n",
       "<table border=\"1\" class=\"dataframe\">\n",
       "  <thead>\n",
       "    <tr style=\"text-align: right;\">\n",
       "      <th></th>\n",
       "      <th>confirmed</th>\n",
       "      <th>deaths</th>\n",
       "      <th>recovered</th>\n",
       "    </tr>\n",
       "  </thead>\n",
       "  <tbody>\n",
       "    <tr>\n",
       "      <th>confirmed</th>\n",
       "      <td>1.000000</td>\n",
       "      <td>0.997010</td>\n",
       "      <td>0.907882</td>\n",
       "    </tr>\n",
       "    <tr>\n",
       "      <th>deaths</th>\n",
       "      <td>0.997010</td>\n",
       "      <td>1.000000</td>\n",
       "      <td>0.891163</td>\n",
       "    </tr>\n",
       "    <tr>\n",
       "      <th>recovered</th>\n",
       "      <td>0.907882</td>\n",
       "      <td>0.891163</td>\n",
       "      <td>1.000000</td>\n",
       "    </tr>\n",
       "  </tbody>\n",
       "</table>\n",
       "</div>"
      ],
      "text/plain": [
       "           confirmed    deaths  recovered\n",
       "confirmed   1.000000  0.997010   0.907882\n",
       "deaths      0.997010  1.000000   0.891163\n",
       "recovered   0.907882  0.891163   1.000000"
      ]
     },
     "execution_count": 6,
     "metadata": {},
     "output_type": "execute_result"
    }
   ],
   "source": [
    "df.groupby(['date']).sum().corr()"
   ]
  },
  {
   "cell_type": "code",
   "execution_count": 7,
   "metadata": {},
   "outputs": [],
   "source": [
    "def correlation_lags(df, column='deaths', max_lag=20, group=False):\n",
    "    def series_corr(f):\n",
    "        return pd.Series({t: f['confirmed'].shift(t).iloc[:-20].corr(f[column]) for t in range(max_lag)})\n",
    "    if group:\n",
    "        return df.groupby('country').apply(series_corr).idxmax(axis=1)\n",
    "    else:\n",
    "        return df.pipe(series_corr).idxmax(axis=0)\n",
    "\n",
    "world_ts = df.groupby('date').sum()\n",
    "days_to_death = correlation_lags(world_ts, 'deaths')\n",
    "days_to_recov = correlation_lags(world_ts, 'recovered')"
   ]
  },
  {
   "cell_type": "code",
   "execution_count": 8,
   "metadata": {},
   "outputs": [
    {
     "data": {
      "text/plain": [
       "(6, 17)"
      ]
     },
     "execution_count": 8,
     "metadata": {},
     "output_type": "execute_result"
    }
   ],
   "source": [
    "days_to_death, days_to_recov"
   ]
  },
  {
   "cell_type": "code",
   "execution_count": null,
   "metadata": {},
   "outputs": [],
   "source": [
    "fatality_rates = (df.join(correlation_lags(df, group=True, column='deaths').rename('days_to_death').fillna(0).astype(int))\n",
    "                  .groupby('country')\n",
    "                  .apply(lambda g: g.deaths.div(g.confirmed.shift(g['days_to_death'].iloc[0])))\n",
    "                  .reset_index(0, drop=True)\n",
    "                 )\n",
    "fatality_rates.groupby('date').mean().plot()"
   ]
  },
  {
   "cell_type": "code",
   "execution_count": null,
   "metadata": {},
   "outputs": [],
   "source": [
    "world_ts.deaths.div(world_ts.confirmed.shift(days_to_death)).plot()"
   ]
  }
 ],
 "metadata": {
  "kernelspec": {
   "display_name": "Python 3",
   "language": "python",
   "name": "python3"
  },
  "language_info": {
   "codemirror_mode": {
    "name": "ipython",
    "version": 3
   },
   "file_extension": ".py",
   "mimetype": "text/x-python",
   "name": "python",
   "nbconvert_exporter": "python",
   "pygments_lexer": "ipython3",
   "version": "3.6.10"
  }
 },
 "nbformat": 4,
 "nbformat_minor": 4
}

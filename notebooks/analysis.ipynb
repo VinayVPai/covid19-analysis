{
 "cells": [
  {
   "cell_type": "code",
   "execution_count": 7,
   "metadata": {},
   "outputs": [],
   "source": [
    "# %load_ext autoreload\n",
    "# %autoreload 2\n",
    "\n",
    "import json\n",
    "import os\n",
    "from pathlib import Path\n",
    "\n",
    "import matplotlib.pyplot as plt\n",
    "import numpy as np\n",
    "import requests\n",
    "import pandas as pd\n",
    "import altair as alt\n",
    "\n",
    "if os.getcwd().split('/')[-1] == 'notebooks':\n",
    "    os.chdir('..')\n",
    "\n",
    "plt.style.use('ggplot')\n",
    "alt.themes.enable('fivethirtyeight')\n",
    "CHARTS_DIR = Path('../covid19-analysis/layouts/partials/covid')"
   ]
  },
  {
   "cell_type": "code",
   "execution_count": 9,
   "metadata": {},
   "outputs": [
    {
     "data": {
      "text/html": [
       "<div>\n",
       "<style scoped>\n",
       "    .dataframe tbody tr th:only-of-type {\n",
       "        vertical-align: middle;\n",
       "    }\n",
       "\n",
       "    .dataframe tbody tr th {\n",
       "        vertical-align: top;\n",
       "    }\n",
       "\n",
       "    .dataframe thead th {\n",
       "        text-align: right;\n",
       "    }\n",
       "</style>\n",
       "<table border=\"1\" class=\"dataframe\">\n",
       "  <thead>\n",
       "    <tr style=\"text-align: right;\">\n",
       "      <th></th>\n",
       "      <th></th>\n",
       "      <th>confirmed</th>\n",
       "      <th>deaths</th>\n",
       "      <th>recovered</th>\n",
       "    </tr>\n",
       "    <tr>\n",
       "      <th>country</th>\n",
       "      <th>date</th>\n",
       "      <th></th>\n",
       "      <th></th>\n",
       "      <th></th>\n",
       "    </tr>\n",
       "  </thead>\n",
       "  <tbody>\n",
       "    <tr>\n",
       "      <th rowspan=\"5\" valign=\"top\">Afghanistan</th>\n",
       "      <th>2020-01-22</th>\n",
       "      <td>0</td>\n",
       "      <td>0</td>\n",
       "      <td>0</td>\n",
       "    </tr>\n",
       "    <tr>\n",
       "      <th>2020-01-23</th>\n",
       "      <td>0</td>\n",
       "      <td>0</td>\n",
       "      <td>0</td>\n",
       "    </tr>\n",
       "    <tr>\n",
       "      <th>2020-01-24</th>\n",
       "      <td>0</td>\n",
       "      <td>0</td>\n",
       "      <td>0</td>\n",
       "    </tr>\n",
       "    <tr>\n",
       "      <th>2020-01-25</th>\n",
       "      <td>0</td>\n",
       "      <td>0</td>\n",
       "      <td>0</td>\n",
       "    </tr>\n",
       "    <tr>\n",
       "      <th>2020-01-26</th>\n",
       "      <td>0</td>\n",
       "      <td>0</td>\n",
       "      <td>0</td>\n",
       "    </tr>\n",
       "  </tbody>\n",
       "</table>\n",
       "</div>"
      ],
      "text/latex": [
       "None"
      ],
      "text/plain": [
       "                        confirmed  deaths  recovered\n",
       "country     date                                    \n",
       "Afghanistan 2020-01-22          0       0          0\n",
       "            2020-01-23          0       0          0\n",
       "            2020-01-24          0       0          0\n",
       "            2020-01-25          0       0          0\n",
       "            2020-01-26          0       0          0"
      ]
     },
     "metadata": {},
     "output_type": "display_data"
    },
    {
     "data": {
      "text/latex": [
       "None"
      ],
      "text/plain": [
       "country      date        status   \n",
       "Afghanistan  2020-01-22  confirmed    0\n",
       "                         deaths       0\n",
       "                         recovered    0\n",
       "             2020-01-23  confirmed    0\n",
       "                         deaths       0\n",
       "Name: count, dtype: int64"
      ]
     },
     "metadata": {},
     "output_type": "display_data"
    }
   ],
   "source": [
    "from fetch import fetch_timeseries, TS_URL\n",
    "\n",
    "df = fetch_timeseries(TS_URL)\n",
    "df_long = df.stack().rename('count').rename_axis(index={None: 'status'})\n",
    "\n",
    "display(df.head())\n",
    "display(df_long.head())\n",
    "\n",
    "# Timeseries"
   ]
  },
  {
   "cell_type": "code",
   "execution_count": 11,
   "metadata": {},
   "outputs": [
    {
     "data": {
      "text/html": [
       "\n",
       "<div id=\"altair-viz-45397f3b23664f42855289fd835e8c3f\"></div>\n",
       "<script type=\"text/javascript\">\n",
       "  (function(spec, embedOpt){\n",
       "    let outputDiv = document.currentScript.previousElementSibling;\n",
       "    if (outputDiv.id !== \"altair-viz-45397f3b23664f42855289fd835e8c3f\") {\n",
       "      outputDiv = document.getElementById(\"altair-viz-45397f3b23664f42855289fd835e8c3f\");\n",
       "    }\n",
       "    const paths = {\n",
       "      \"vega\": \"https://cdn.jsdelivr.net/npm//vega@5?noext\",\n",
       "      \"vega-lib\": \"https://cdn.jsdelivr.net/npm//vega-lib?noext\",\n",
       "      \"vega-lite\": \"https://cdn.jsdelivr.net/npm//vega-lite@4.8.1?noext\",\n",
       "      \"vega-embed\": \"https://cdn.jsdelivr.net/npm//vega-embed@6?noext\",\n",
       "    };\n",
       "\n",
       "    function loadScript(lib) {\n",
       "      return new Promise(function(resolve, reject) {\n",
       "        var s = document.createElement('script');\n",
       "        s.src = paths[lib];\n",
       "        s.async = true;\n",
       "        s.onload = () => resolve(paths[lib]);\n",
       "        s.onerror = () => reject(`Error loading script: ${paths[lib]}`);\n",
       "        document.getElementsByTagName(\"head\")[0].appendChild(s);\n",
       "      });\n",
       "    }\n",
       "\n",
       "    function showError(err) {\n",
       "      outputDiv.innerHTML = `<div class=\"error\" style=\"color:red;\">${err}</div>`;\n",
       "      throw err;\n",
       "    }\n",
       "\n",
       "    function displayChart(vegaEmbed) {\n",
       "      vegaEmbed(outputDiv, spec, embedOpt)\n",
       "        .catch(err => showError(`Javascript Error: ${err.message}<br>This usually means there's a typo in your chart specification. See the javascript console for the full traceback.`));\n",
       "    }\n",
       "\n",
       "    if(typeof define === \"function\" && define.amd) {\n",
       "      requirejs.config({paths});\n",
       "      require([\"vega-embed\"], displayChart, err => showError(`Error loading script: ${err.message}`));\n",
       "    } else if (typeof vegaEmbed === \"function\") {\n",
       "      displayChart(vegaEmbed);\n",
       "    } else {\n",
       "      loadScript(\"vega\")\n",
       "        .then(() => loadScript(\"vega-lite\"))\n",
       "        .then(() => loadScript(\"vega-embed\"))\n",
       "        .catch(showError)\n",
       "        .then(() => displayChart(vegaEmbed));\n",
       "    }\n",
       "  })({\"usermeta\": {\"embedOptions\": {\"theme\": \"fivethirtyeight\"}}, \"config\": {\"view\": {\"continuousWidth\": 400, \"continuousHeight\": 300}}, \"vconcat\": [{\"data\": {\"url\": \"https://vega.github.io/vega-datasets/data/world-110m.json\", \"format\": {\"feature\": \"countries\", \"type\": \"topojson\"}}, \"mark\": {\"type\": \"geoshape\", \"stroke\": \"white\", \"strokeWidth\": 0.5}, \"encoding\": {\"color\": {\"condition\": {\"type\": \"quantitative\", \"field\": \"count\", \"scale\": {\"base\": 10, \"scheme\": \"oranges\", \"type\": \"log\"}, \"selection\": \"Country of\"}, \"value\": \"lightgray\"}, \"tooltip\": [{\"type\": \"quantitative\", \"field\": \"count\"}, {\"type\": \"nominal\", \"field\": \"country\"}, {\"type\": \"quantitative\", \"field\": \"day\"}]}, \"height\": 400, \"selection\": {\"Country of\": {\"type\": \"single\", \"fields\": [\"country\"], \"empty\": \"all\"}}, \"title\": \"Confirmed cases today\", \"transform\": [{\"lookup\": \"id\", \"from\": {\"data\": {\"url\": \"http://localhost:18598/1501d1e634175810efda0a40c967bff7.json\"}, \"key\": \"id\", \"fields\": [\"count\", \"status\", \"country\", \"day\", \"date\"]}}], \"width\": 900}, {\"hconcat\": [{\"layer\": [{\"mark\": {\"type\": \"line\", \"point\": true}, \"encoding\": {\"color\": {\"type\": \"nominal\", \"field\": \"status\", \"scale\": {\"domain\": [\"confirmed\", \"recovered\", \"deaths\"], \"range\": [\"orange\", \"green\", \"black\"]}}, \"opacity\": {\"condition\": {\"value\": 1, \"selection\": \"selector001\"}, \"value\": 0.2}, \"x\": {\"type\": \"temporal\", \"field\": \"date\"}, \"y\": {\"type\": \"quantitative\", \"field\": \"count\"}}, \"selection\": {\"selector001\": {\"type\": \"single\", \"fields\": [\"status\"], \"bind\": \"legend\", \"empty\": \"all\", \"init\": {\"status\": \"confirmed\"}}, \"Country of\": {\"type\": \"single\", \"fields\": [\"country\"], \"empty\": \"all\"}}}, {\"mark\": \"rule\", \"encoding\": {\"opacity\": {\"condition\": {\"value\": 0.3, \"selection\": \"selector002\"}, \"value\": 0}, \"tooltip\": [{\"type\": \"quantitative\", \"field\": \"confirmed\"}, {\"type\": \"quantitative\", \"field\": \"deaths\"}, {\"type\": \"quantitative\", \"field\": \"recovered\"}], \"x\": {\"type\": \"temporal\", \"field\": \"date\"}}, \"selection\": {\"selector002\": {\"type\": \"single\", \"fields\": [\"date\"], \"nearest\": true, \"on\": \"mouseover\", \"empty\": \"none\", \"clear\": \"mouseout\"}}, \"transform\": [{\"pivot\": \"status\", \"value\": \"count\", \"groupby\": [\"date\"]}]}, {\"mark\": \"point\", \"encoding\": {\"color\": {\"type\": \"nominal\", \"field\": \"status\", \"scale\": {\"domain\": [\"confirmed\", \"recovered\", \"deaths\"], \"range\": [\"orange\", \"green\", \"black\"]}}, \"x\": {\"type\": \"temporal\", \"field\": \"date\"}, \"y\": {\"type\": \"quantitative\", \"field\": \"count\"}}, \"transform\": [{\"filter\": {\"selection\": \"selector002\"}}]}], \"data\": {\"url\": \"http://localhost:18598/93ab1b76a8ebb17e4dad2b38674f332c.json\"}, \"height\": 300, \"title\": \"Cumulated cases\", \"transform\": [{\"filter\": {\"selection\": \"Country of\"}}, {\"aggregate\": [{\"op\": \"sum\", \"field\": \"count\", \"as\": \"count\"}], \"groupby\": [\"status\", \"date\"]}], \"width\": 500}, {\"data\": {\"url\": \"http://localhost:18598/d704b955c7723eef990630caaf740035.json\"}, \"mark\": {\"type\": \"bar\", \"point\": true}, \"encoding\": {\"color\": {\"type\": \"nominal\", \"field\": \"status\"}, \"opacity\": {\"condition\": {\"value\": 1, \"selection\": \"selector001\"}, \"value\": 0.2}, \"tooltip\": [{\"type\": \"quantitative\", \"field\": \"diff\"}, {\"type\": \"quantitative\", \"field\": \"diff_rel\"}, {\"type\": \"temporal\", \"field\": \"date\"}], \"x\": {\"type\": \"temporal\", \"field\": \"date\"}, \"y\": {\"type\": \"quantitative\", \"field\": \"diff\"}}, \"height\": 300, \"selection\": {\"Country of\": {\"type\": \"single\", \"fields\": [\"country\"], \"empty\": \"all\"}, \"selector001\": {\"type\": \"single\", \"fields\": [\"status\"], \"bind\": \"legend\", \"empty\": \"all\", \"init\": {\"status\": \"confirmed\"}}}, \"title\": \"New cases\", \"transform\": [{\"filter\": {\"selection\": \"Country of\"}}, {\"aggregate\": [{\"op\": \"sum\", \"field\": \"diff\", \"as\": \"diff\"}, {\"op\": \"sum\", \"field\": \"diff_rel\", \"as\": \"diff_rel\"}], \"groupby\": [\"status\", \"date\"]}, {\"filter\": {\"selection\": \"selector001\"}}], \"width\": 500}]}], \"$schema\": \"https://vega.github.io/schema/vega-lite/v4.8.1.json\"}, {\"mode\": \"vega-lite\"});\n",
       "</script>"
      ]
     },
     "execution_count": 11,
     "metadata": {},
     "output_type": "execute_result"
    }
   ],
   "source": [
    "from IPython.display import display\n",
    "from importlib import reload\n",
    "import charts\n",
    "import render\n",
    "reload(charts)\n",
    "reload(render)\n",
    "from charts import make_ts_chart, make_ts_selections, make_data_long\n",
    "from charts import make_map, status_schemes, make_map_data, countries, make_map_data, make_dod, combine_map_ts\n",
    "from render import make_chart\n",
    "\n",
    "# alt.data_transformers.enable('default', max_rows=None)\n",
    "alt.data_transformers.enable('data_server')\n",
    "\n",
    "make_chart(df_long)"
   ]
  },
  {
   "cell_type": "code",
   "execution_count": 4,
   "metadata": {},
   "outputs": [
    {
     "data": {
      "text/html": [
       "<div>\n",
       "<style scoped>\n",
       "    .dataframe tbody tr th:only-of-type {\n",
       "        vertical-align: middle;\n",
       "    }\n",
       "\n",
       "    .dataframe tbody tr th {\n",
       "        vertical-align: top;\n",
       "    }\n",
       "\n",
       "    .dataframe thead th {\n",
       "        text-align: right;\n",
       "    }\n",
       "</style>\n",
       "<table border=\"1\" class=\"dataframe\">\n",
       "  <thead>\n",
       "    <tr style=\"text-align: right;\">\n",
       "      <th></th>\n",
       "      <th>date</th>\n",
       "      <th>confirmed</th>\n",
       "      <th>deaths</th>\n",
       "      <th>recovered</th>\n",
       "      <th>date_int</th>\n",
       "    </tr>\n",
       "  </thead>\n",
       "  <tbody>\n",
       "    <tr>\n",
       "      <th>0</th>\n",
       "      <td>2020-01-22</td>\n",
       "      <td>0</td>\n",
       "      <td>0</td>\n",
       "      <td>0</td>\n",
       "      <td>22</td>\n",
       "    </tr>\n",
       "    <tr>\n",
       "      <th>1</th>\n",
       "      <td>2020-01-23</td>\n",
       "      <td>0</td>\n",
       "      <td>0</td>\n",
       "      <td>0</td>\n",
       "      <td>23</td>\n",
       "    </tr>\n",
       "    <tr>\n",
       "      <th>2</th>\n",
       "      <td>2020-01-24</td>\n",
       "      <td>2</td>\n",
       "      <td>0</td>\n",
       "      <td>0</td>\n",
       "      <td>24</td>\n",
       "    </tr>\n",
       "    <tr>\n",
       "      <th>3</th>\n",
       "      <td>2020-01-25</td>\n",
       "      <td>3</td>\n",
       "      <td>0</td>\n",
       "      <td>0</td>\n",
       "      <td>25</td>\n",
       "    </tr>\n",
       "    <tr>\n",
       "      <th>4</th>\n",
       "      <td>2020-01-26</td>\n",
       "      <td>3</td>\n",
       "      <td>0</td>\n",
       "      <td>0</td>\n",
       "      <td>26</td>\n",
       "    </tr>\n",
       "    <tr>\n",
       "      <th>...</th>\n",
       "      <td>...</td>\n",
       "      <td>...</td>\n",
       "      <td>...</td>\n",
       "      <td>...</td>\n",
       "      <td>...</td>\n",
       "    </tr>\n",
       "    <tr>\n",
       "      <th>67</th>\n",
       "      <td>2020-03-29</td>\n",
       "      <td>40708</td>\n",
       "      <td>2611</td>\n",
       "      <td>7226</td>\n",
       "      <td>89</td>\n",
       "    </tr>\n",
       "    <tr>\n",
       "      <th>68</th>\n",
       "      <td>2020-03-30</td>\n",
       "      <td>45170</td>\n",
       "      <td>3030</td>\n",
       "      <td>7964</td>\n",
       "      <td>90</td>\n",
       "    </tr>\n",
       "    <tr>\n",
       "      <th>69</th>\n",
       "      <td>2020-03-31</td>\n",
       "      <td>52827</td>\n",
       "      <td>3532</td>\n",
       "      <td>9513</td>\n",
       "      <td>91</td>\n",
       "    </tr>\n",
       "    <tr>\n",
       "      <th>70</th>\n",
       "      <td>2020-04-01</td>\n",
       "      <td>57749</td>\n",
       "      <td>4043</td>\n",
       "      <td>11053</td>\n",
       "      <td>92</td>\n",
       "    </tr>\n",
       "    <tr>\n",
       "      <th>71</th>\n",
       "      <td>2020-04-02</td>\n",
       "      <td>59929</td>\n",
       "      <td>5398</td>\n",
       "      <td>12548</td>\n",
       "      <td>93</td>\n",
       "    </tr>\n",
       "  </tbody>\n",
       "</table>\n",
       "<p>72 rows × 5 columns</p>\n",
       "</div>"
      ],
      "text/latex": [
       "None"
      ],
      "text/plain": [
       "         date  confirmed  deaths  recovered  date_int\n",
       "0  2020-01-22          0       0          0        22\n",
       "1  2020-01-23          0       0          0        23\n",
       "2  2020-01-24          2       0          0        24\n",
       "3  2020-01-25          3       0          0        25\n",
       "4  2020-01-26          3       0          0        26\n",
       "..        ...        ...     ...        ...       ...\n",
       "67 2020-03-29      40708    2611       7226        89\n",
       "68 2020-03-30      45170    3030       7964        90\n",
       "69 2020-03-31      52827    3532       9513        91\n",
       "70 2020-04-01      57749    4043      11053        92\n",
       "71 2020-04-02      59929    5398      12548        93\n",
       "\n",
       "[72 rows x 5 columns]"
      ]
     },
     "execution_count": 4,
     "metadata": {},
     "output_type": "execute_result"
    }
   ],
   "source": [
    "df.loc['France'].reset_index().assign(date_int=lambda f: f['date'].dt.dayofyear)"
   ]
  },
  {
   "cell_type": "code",
   "execution_count": 5,
   "metadata": {},
   "outputs": [],
   "source": [
    "from charts import make_dod, assign_dod\n",
    "\n",
    "dod_long = make_dod(df_long)\n",
    "dod_long_world = df_long.groupby(['date', 'status']).sum().to_frame().groupby('status').apply(assign_dod)"
   ]
  },
  {
   "cell_type": "code",
   "execution_count": 11,
   "metadata": {},
   "outputs": [
    {
     "name": "stdout",
     "output_type": "stream",
     "text": [
      "ok\n"
     ]
    }
   ],
   "source": [
    "# alt.Chart(dod_long_world.reset_index().dropna()).mark_bar().encode(x='date', y='diff_rel', color='status')\n",
    "print('ok')"
   ]
  },
  {
   "cell_type": "code",
   "execution_count": 12,
   "metadata": {},
   "outputs": [],
   "source": [
    "\n",
    "# equirectangular', 'mercator', 'orthographic', 'gnomonic\n",
    "# map_chart2.properties(width=900, title='Confirmed cases').project('mercator') & (ts_chart2 | make_dod_chart(dod_long))"
   ]
  },
  {
   "cell_type": "code",
   "execution_count": 8,
   "metadata": {},
   "outputs": [],
   "source": [
    "confirmed_chart = alt.Chart(df.loc['Spain'].reset_index().assign(date_int=lambda f: f['date'].dt.dayofyear).dropna()).mark_point().encode(x='date_int', y='confirmed')\n",
    "# confirmed_chart + confirmed_chart.transform_regression('date_int', 'confirmed', method='exp').mark_line()"
   ]
  },
  {
   "cell_type": "code",
   "execution_count": 23,
   "metadata": {},
   "outputs": [
    {
     "data": {
      "text/html": [
       "\n",
       "<div id=\"altair-viz-7d15f05dbc1140178448ee79c301437f\"></div>\n",
       "<script type=\"text/javascript\">\n",
       "  (function(spec, embedOpt){\n",
       "    let outputDiv = document.currentScript.previousElementSibling;\n",
       "    if (outputDiv.id !== \"altair-viz-7d15f05dbc1140178448ee79c301437f\") {\n",
       "      outputDiv = document.getElementById(\"altair-viz-7d15f05dbc1140178448ee79c301437f\");\n",
       "    }\n",
       "    const paths = {\n",
       "      \"vega\": \"https://cdn.jsdelivr.net/npm//vega@5?noext\",\n",
       "      \"vega-lib\": \"https://cdn.jsdelivr.net/npm//vega-lib?noext\",\n",
       "      \"vega-lite\": \"https://cdn.jsdelivr.net/npm//vega-lite@4.8.1?noext\",\n",
       "      \"vega-embed\": \"https://cdn.jsdelivr.net/npm//vega-embed@6?noext\",\n",
       "    };\n",
       "\n",
       "    function loadScript(lib) {\n",
       "      return new Promise(function(resolve, reject) {\n",
       "        var s = document.createElement('script');\n",
       "        s.src = paths[lib];\n",
       "        s.async = true;\n",
       "        s.onload = () => resolve(paths[lib]);\n",
       "        s.onerror = () => reject(`Error loading script: ${paths[lib]}`);\n",
       "        document.getElementsByTagName(\"head\")[0].appendChild(s);\n",
       "      });\n",
       "    }\n",
       "\n",
       "    function showError(err) {\n",
       "      outputDiv.innerHTML = `<div class=\"error\" style=\"color:red;\">${err}</div>`;\n",
       "      throw err;\n",
       "    }\n",
       "\n",
       "    function displayChart(vegaEmbed) {\n",
       "      vegaEmbed(outputDiv, spec, embedOpt)\n",
       "        .catch(err => showError(`Javascript Error: ${err.message}<br>This usually means there's a typo in your chart specification. See the javascript console for the full traceback.`));\n",
       "    }\n",
       "\n",
       "    if(typeof define === \"function\" && define.amd) {\n",
       "      requirejs.config({paths});\n",
       "      require([\"vega-embed\"], displayChart, err => showError(`Error loading script: ${err.message}`));\n",
       "    } else if (typeof vegaEmbed === \"function\") {\n",
       "      displayChart(vegaEmbed);\n",
       "    } else {\n",
       "      loadScript(\"vega\")\n",
       "        .then(() => loadScript(\"vega-lite\"))\n",
       "        .then(() => loadScript(\"vega-embed\"))\n",
       "        .catch(showError)\n",
       "        .then(() => displayChart(vegaEmbed));\n",
       "    }\n",
       "  })({\"usermeta\": {\"embedOptions\": {\"theme\": \"fivethirtyeight\"}}, \"config\": {\"view\": {\"continuousWidth\": 400, \"continuousHeight\": 300}}, \"vconcat\": [{\"data\": {\"url\": \"https://vega.github.io/vega-datasets/data/world-110m.json\", \"format\": {\"feature\": \"countries\", \"type\": \"topojson\"}}, \"mark\": {\"type\": \"geoshape\", \"stroke\": \"white\", \"strokeWidth\": 0.5}, \"encoding\": {\"color\": {\"condition\": {\"type\": \"quantitative\", \"field\": \"count\", \"scale\": {\"base\": 10, \"scheme\": \"oranges\", \"type\": \"log\"}, \"selection\": \"Country of\"}, \"value\": \"lightgray\"}, \"tooltip\": [{\"type\": \"quantitative\", \"field\": \"count\"}, {\"type\": \"nominal\", \"field\": \"country\"}, {\"type\": \"quantitative\", \"field\": \"day\"}]}, \"height\": 400, \"selection\": {\"Country of\": {\"type\": \"single\", \"fields\": [\"country\"], \"empty\": \"all\"}}, \"title\": \"Confirmed cases today\", \"transform\": [{\"lookup\": \"id\", \"from\": {\"data\": {\"url\": \"http://localhost:23868/1501d1e634175810efda0a40c967bff7.json\"}, \"key\": \"id\", \"fields\": [\"count\", \"status\", \"country\", \"day\", \"date\"]}}], \"width\": 900}, {\"hconcat\": [{\"layer\": [{\"mark\": {\"type\": \"line\", \"point\": true}, \"encoding\": {\"color\": {\"type\": \"nominal\", \"field\": \"status\", \"scale\": {\"domain\": [\"confirmed\", \"recovered\", \"deaths\"], \"range\": [\"orange\", \"green\", \"black\"]}}, \"opacity\": {\"condition\": {\"value\": 1, \"selection\": \"selector012\"}, \"value\": 0.2}, \"x\": {\"type\": \"temporal\", \"field\": \"date\"}, \"y\": {\"type\": \"quantitative\", \"field\": \"count\"}}, \"selection\": {\"selector012\": {\"type\": \"single\", \"fields\": [\"status\"], \"bind\": \"legend\", \"empty\": \"all\", \"init\": {\"status\": \"confirmed\"}}, \"Country of\": {\"type\": \"single\", \"fields\": [\"country\"], \"empty\": \"all\"}}}, {\"mark\": \"rule\", \"encoding\": {\"opacity\": {\"condition\": {\"value\": 0.3, \"selection\": \"selector013\"}, \"value\": 0}, \"tooltip\": [{\"type\": \"quantitative\", \"field\": \"confirmed\"}, {\"type\": \"quantitative\", \"field\": \"deaths\"}, {\"type\": \"quantitative\", \"field\": \"recovered\"}], \"x\": {\"type\": \"temporal\", \"field\": \"date\"}}, \"selection\": {\"selector013\": {\"type\": \"single\", \"fields\": [\"date\"], \"nearest\": true, \"on\": \"mouseover\", \"empty\": \"none\", \"clear\": \"mouseout\"}}, \"transform\": [{\"pivot\": \"status\", \"value\": \"count\", \"groupby\": [\"date\"]}]}, {\"mark\": \"point\", \"encoding\": {\"color\": {\"type\": \"nominal\", \"field\": \"status\", \"scale\": {\"domain\": [\"confirmed\", \"recovered\", \"deaths\"], \"range\": [\"orange\", \"green\", \"black\"]}}, \"x\": {\"type\": \"temporal\", \"field\": \"date\"}, \"y\": {\"type\": \"quantitative\", \"field\": \"count\"}}, \"transform\": [{\"filter\": {\"selection\": \"selector013\"}}]}], \"data\": {\"url\": \"http://localhost:23868/93ab1b76a8ebb17e4dad2b38674f332c.json\"}, \"height\": 300, \"title\": \"Evolution\", \"transform\": [{\"filter\": {\"selection\": \"Country of\"}}, {\"aggregate\": [{\"op\": \"sum\", \"field\": \"count\", \"as\": \"count\"}], \"groupby\": [\"status\", \"date\"]}], \"width\": 500}, {\"data\": {\"url\": \"http://localhost:23868/d704b955c7723eef990630caaf740035.json\"}, \"mark\": {\"type\": \"bar\", \"point\": true}, \"encoding\": {\"color\": {\"type\": \"nominal\", \"field\": \"status\"}, \"opacity\": {\"condition\": {\"value\": 1, \"selection\": \"selector018\"}, \"value\": 0.2}, \"tooltip\": [{\"type\": \"quantitative\", \"field\": \"diff\"}, {\"type\": \"quantitative\", \"field\": \"diff_rel\"}, {\"type\": \"temporal\", \"field\": \"date\"}], \"x\": {\"type\": \"temporal\", \"field\": \"date\"}, \"y\": {\"type\": \"quantitative\", \"field\": \"diff\"}}, \"height\": 300, \"selection\": {\"selector018\": {\"type\": \"single\", \"fields\": [\"status\"], \"bind\": \"legend\", \"empty\": \"all\"}, \"Country of\": {\"type\": \"single\", \"fields\": [\"country\"], \"empty\": \"all\"}}, \"title\": \"DoD evolution\", \"transform\": [{\"filter\": {\"selection\": \"selector018\"}}, {\"filter\": {\"selection\": \"Country of\"}}], \"width\": 500}]}], \"$schema\": \"https://vega.github.io/schema/vega-lite/v4.8.1.json\"}, {\"mode\": \"vega-lite\"});\n",
       "</script>"
      ]
     },
     "execution_count": 23,
     "metadata": {},
     "output_type": "execute_result"
    }
   ],
   "source": [
    "# selection_legend = alt.selection_single(fields=['status'], bind='legend', empty='all')\n"
   ]
  },
  {
   "cell_type": "markdown",
   "metadata": {},
   "source": [
    "# Correlations"
   ]
  },
  {
   "cell_type": "code",
   "execution_count": 15,
   "metadata": {},
   "outputs": [
    {
     "data": {
      "text/plain": [
       "<matplotlib.axes._subplots.AxesSubplot object at 0x7f472639bd68>"
      ]
     },
     "execution_count": 15,
     "metadata": {},
     "output_type": "execute_result"
    }
   ],
   "source": [
    "import seaborn as sns\n",
    "\n",
    "df.groupby('country').apply(lambda f: f.fillna(method='ffill')).fillna(0).corr().pipe(sns.heatmap, annot=True)"
   ]
  },
  {
   "cell_type": "code",
   "execution_count": 16,
   "metadata": {},
   "outputs": [
    {
     "data": {
      "text/html": [
       "<div>\n",
       "<style scoped>\n",
       "    .dataframe tbody tr th:only-of-type {\n",
       "        vertical-align: middle;\n",
       "    }\n",
       "\n",
       "    .dataframe tbody tr th {\n",
       "        vertical-align: top;\n",
       "    }\n",
       "\n",
       "    .dataframe thead th {\n",
       "        text-align: right;\n",
       "    }\n",
       "</style>\n",
       "<table border=\"1\" class=\"dataframe\">\n",
       "  <thead>\n",
       "    <tr style=\"text-align: right;\">\n",
       "      <th></th>\n",
       "      <th>confirmed</th>\n",
       "      <th>deaths</th>\n",
       "      <th>recovered</th>\n",
       "    </tr>\n",
       "  </thead>\n",
       "  <tbody>\n",
       "    <tr>\n",
       "      <th>confirmed</th>\n",
       "      <td>1.00000</td>\n",
       "      <td>0.997950</td>\n",
       "      <td>0.938290</td>\n",
       "    </tr>\n",
       "    <tr>\n",
       "      <th>deaths</th>\n",
       "      <td>0.99795</td>\n",
       "      <td>1.000000</td>\n",
       "      <td>0.924285</td>\n",
       "    </tr>\n",
       "    <tr>\n",
       "      <th>recovered</th>\n",
       "      <td>0.93829</td>\n",
       "      <td>0.924285</td>\n",
       "      <td>1.000000</td>\n",
       "    </tr>\n",
       "  </tbody>\n",
       "</table>\n",
       "</div>"
      ],
      "text/latex": [
       "None"
      ],
      "text/plain": [
       "           confirmed    deaths  recovered\n",
       "confirmed    1.00000  0.997950   0.938290\n",
       "deaths       0.99795  1.000000   0.924285\n",
       "recovered    0.93829  0.924285   1.000000"
      ]
     },
     "execution_count": 16,
     "metadata": {},
     "output_type": "execute_result"
    }
   ],
   "source": [
    "df.groupby(['date']).sum().corr()"
   ]
  },
  {
   "cell_type": "code",
   "execution_count": 17,
   "metadata": {},
   "outputs": [],
   "source": [
    "def correlation_lags(df, column='deaths', max_lag=20, group=False):\n",
    "    def series_corr(f):\n",
    "        return pd.Series({t: f['confirmed'].shift(t).iloc[:-20].corr(f[column]) for t in range(max_lag)})\n",
    "    if group:\n",
    "        return df.groupby('country').apply(series_corr).idxmax(axis=1)\n",
    "    else:\n",
    "        return df.pipe(series_corr).idxmax(axis=0)\n",
    "\n",
    "world_ts = df.groupby('date').sum()\n",
    "days_to_death = correlation_lags(world_ts, 'deaths')\n",
    "days_to_recov = correlation_lags(world_ts, 'recovered')"
   ]
  },
  {
   "cell_type": "code",
   "execution_count": 18,
   "metadata": {},
   "outputs": [
    {
     "data": {
      "text/plain": [
       "(1, 19)"
      ]
     },
     "execution_count": 18,
     "metadata": {},
     "output_type": "execute_result"
    }
   ],
   "source": [
    "days_to_death, days_to_recov"
   ]
  },
  {
   "cell_type": "code",
   "execution_count": 20,
   "metadata": {},
   "outputs": [
    {
     "data": {
      "text/plain": [
       "<matplotlib.axes._subplots.AxesSubplot object at 0x7f472639bd68>"
      ]
     },
     "execution_count": 20,
     "metadata": {},
     "output_type": "execute_result"
    }
   ],
   "source": [
    "fatality_rates = (df.join(correlation_lags(df, group=True, column='deaths').rename('days_to_death').fillna(0).astype(int))\n",
    "                  .groupby('country')\n",
    "                  .apply(lambda g: g.deaths.div(g.confirmed.shift(g['days_to_death'].iloc[0])))\n",
    "                  .reset_index(0, drop=True)\n",
    "                 )\n",
    "fatality_rates.groupby('date').mean().plot()"
   ]
  },
  {
   "cell_type": "code",
   "execution_count": 23,
   "metadata": {},
   "outputs": [
    {
     "data": {
      "text/plain": [
       "<matplotlib.axes._subplots.AxesSubplot object at 0x7f472639bd68>"
      ]
     },
     "execution_count": 23,
     "metadata": {},
     "output_type": "execute_result"
    }
   ],
   "source": [
    "world_ts.deaths.div(world_ts.confirmed.shift(days_to_death)).plot()"
   ]
  }
 ],
 "metadata": {
  "kernelspec": {
   "display_name": "xpython",
   "language": "python",
   "name": "xpython"
  },
  "language_info": {
   "file_extension": ".py",
   "mimetype": "text/x-python",
   "name": "python",
   "version": "3.6.10"
  }
 },
 "nbformat": 4,
 "nbformat_minor": 4
}

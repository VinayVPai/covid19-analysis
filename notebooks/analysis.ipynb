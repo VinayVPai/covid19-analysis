{
 "cells": [
  {
   "cell_type": "code",
   "execution_count": 9,
   "metadata": {},
   "outputs": [],
   "source": [
    "# %load_ext autoreload\n",
    "# %autoreload 2\n",
    "\n",
    "import json\n",
    "import os\n",
    "from pathlib import Path\n",
    "\n",
    "import matplotlib.pyplot as plt\n",
    "import numpy as np\n",
    "import requests\n",
    "import pandas as pd\n",
    "import altair as alt\n",
    "\n",
    "if os.getcwd().split('/')[-1] == 'notebooks':\n",
    "    os.chdir('..')\n",
    "\n",
    "plt.style.use('ggplot')\n",
    "alt.themes.enable('fivethirtyeight')\n",
    "CHARTS_DIR = Path('../covid19-analysis/layouts/partials/covid')"
   ]
  },
  {
   "cell_type": "code",
   "execution_count": 2,
   "metadata": {},
   "outputs": [
    {
     "data": {
      "text/html": [
       "<div>\n",
       "<style scoped>\n",
       "    .dataframe tbody tr th:only-of-type {\n",
       "        vertical-align: middle;\n",
       "    }\n",
       "\n",
       "    .dataframe tbody tr th {\n",
       "        vertical-align: top;\n",
       "    }\n",
       "\n",
       "    .dataframe thead th {\n",
       "        text-align: right;\n",
       "    }\n",
       "</style>\n",
       "<table border=\"1\" class=\"dataframe\">\n",
       "  <thead>\n",
       "    <tr style=\"text-align: right;\">\n",
       "      <th></th>\n",
       "      <th></th>\n",
       "      <th>confirmed</th>\n",
       "      <th>deaths</th>\n",
       "      <th>recovered</th>\n",
       "    </tr>\n",
       "    <tr>\n",
       "      <th>country</th>\n",
       "      <th>date</th>\n",
       "      <th></th>\n",
       "      <th></th>\n",
       "      <th></th>\n",
       "    </tr>\n",
       "  </thead>\n",
       "  <tbody>\n",
       "    <tr>\n",
       "      <th rowspan=\"5\" valign=\"top\">Afghanistan</th>\n",
       "      <th>2020-01-22</th>\n",
       "      <td>0</td>\n",
       "      <td>0</td>\n",
       "      <td>0</td>\n",
       "    </tr>\n",
       "    <tr>\n",
       "      <th>2020-01-23</th>\n",
       "      <td>0</td>\n",
       "      <td>0</td>\n",
       "      <td>0</td>\n",
       "    </tr>\n",
       "    <tr>\n",
       "      <th>2020-01-24</th>\n",
       "      <td>0</td>\n",
       "      <td>0</td>\n",
       "      <td>0</td>\n",
       "    </tr>\n",
       "    <tr>\n",
       "      <th>2020-01-25</th>\n",
       "      <td>0</td>\n",
       "      <td>0</td>\n",
       "      <td>0</td>\n",
       "    </tr>\n",
       "    <tr>\n",
       "      <th>2020-01-26</th>\n",
       "      <td>0</td>\n",
       "      <td>0</td>\n",
       "      <td>0</td>\n",
       "    </tr>\n",
       "  </tbody>\n",
       "</table>\n",
       "</div>"
      ],
      "text/latex": [
       "None"
      ],
      "text/plain": [
       "                        confirmed  deaths  recovered\n",
       "country     date                                    \n",
       "Afghanistan 2020-01-22          0       0          0\n",
       "            2020-01-23          0       0          0\n",
       "            2020-01-24          0       0          0\n",
       "            2020-01-25          0       0          0\n",
       "            2020-01-26          0       0          0"
      ]
     },
     "metadata": {},
     "output_type": "display_data"
    },
    {
     "data": {
      "text/latex": [
       "None"
      ],
      "text/plain": [
       "country      date        status   \n",
       "Afghanistan  2020-01-22  confirmed    0\n",
       "                         deaths       0\n",
       "                         recovered    0\n",
       "             2020-01-23  confirmed    0\n",
       "                         deaths       0\n",
       "Name: count, dtype: int64"
      ]
     },
     "metadata": {},
     "output_type": "display_data"
    }
   ],
   "source": [
    "from fetch import fetch_timeseries, TS_URL\n",
    "\n",
    "df = fetch_timeseries(TS_URL)\n",
    "df_long = df.stack().rename('count').rename_axis(index={None: 'status'})\n",
    "\n",
    "display(df.head())\n",
    "display(df_long.head())\n",
    "\n",
    "# Timeseries"
   ]
  },
  {
   "cell_type": "code",
   "execution_count": 163,
   "metadata": {},
   "outputs": [
    {
     "data": {},
     "execution_count": 163,
     "metadata": {},
     "output_type": "execute_result"
    }
   ],
   "source": [
    "from IPython.display import display\n",
    "from importlib import reload\n",
    "import charts\n",
    "import render\n",
    "reload(charts)\n",
    "reload(render)\n",
    "from charts import *\n",
    "from render import make_chart\n",
    "\n",
    "# alt.data_transformers.enable('default', max_rows=None)\n",
    "alt.data_transformers.enable('data_server')\n",
    "\n",
    "data_long = make_data_long(df_long)\n",
    "dod_long = make_dod(df_long).reset_index()\n",
    "\n",
    "base_ts =  (alt.Chart(data_long).encode(x='date:T'))\n",
    "selection_legend, selection_tooltip = make_ts_selections()\n",
    "ts_chart = make_ts_chart(base_ts, sorted(dod_long.status.unique()), selection_legend, selection_tooltip)\n",
    "\n",
    "map_data = make_map_data(data_long, countries)\n",
    "map_chart = make_map(map_data, status_schemes)\n",
    "\n",
    "dod_chart = make_dod_chart(dod_long)\n",
    "chart = combine_map_ts(map_chart, ts_chart, dod_chart, selection_legend)\n",
    "\n",
    "chart"
   ]
  },
  {
   "cell_type": "code",
   "execution_count": 161,
   "metadata": {},
   "outputs": [
    {
     "data": {
      "text/plain": [
       "False"
      ]
     },
     "execution_count": 161,
     "metadata": {},
     "output_type": "execute_result"
    }
   ],
   "source": [
    "selection_legend == 'confirmed'"
   ]
  },
  {
   "cell_type": "markdown",
   "metadata": {},
   "source": [
    "## Attempt: status selection in heatmap "
   ]
  },
  {
   "cell_type": "code",
   "execution_count": 136,
   "metadata": {},
   "outputs": [
    {
     "data": {
      "text/html": [
       "<div>\n",
       "<style scoped>\n",
       "    .dataframe tbody tr th:only-of-type {\n",
       "        vertical-align: middle;\n",
       "    }\n",
       "\n",
       "    .dataframe tbody tr th {\n",
       "        vertical-align: top;\n",
       "    }\n",
       "\n",
       "    .dataframe thead th {\n",
       "        text-align: right;\n",
       "    }\n",
       "</style>\n",
       "<table border=\"1\" class=\"dataframe\">\n",
       "  <thead>\n",
       "    <tr style=\"text-align: right;\">\n",
       "      <th>status</th>\n",
       "      <th>country</th>\n",
       "      <th>id</th>\n",
       "      <th>date</th>\n",
       "      <th>confirmed</th>\n",
       "      <th>deaths</th>\n",
       "      <th>recovered</th>\n",
       "    </tr>\n",
       "  </thead>\n",
       "  <tbody>\n",
       "    <tr>\n",
       "      <th>0</th>\n",
       "      <td>Afghanistan</td>\n",
       "      <td>4</td>\n",
       "      <td>2020-04-02</td>\n",
       "      <td>273.0</td>\n",
       "      <td>6.0</td>\n",
       "      <td>10.0</td>\n",
       "    </tr>\n",
       "    <tr>\n",
       "      <th>1</th>\n",
       "      <td>Albania</td>\n",
       "      <td>8</td>\n",
       "      <td>2020-04-02</td>\n",
       "      <td>277.0</td>\n",
       "      <td>16.0</td>\n",
       "      <td>76.0</td>\n",
       "    </tr>\n",
       "    <tr>\n",
       "      <th>2</th>\n",
       "      <td>Algeria</td>\n",
       "      <td>12</td>\n",
       "      <td>2020-04-02</td>\n",
       "      <td>986.0</td>\n",
       "      <td>86.0</td>\n",
       "      <td>61.0</td>\n",
       "    </tr>\n",
       "    <tr>\n",
       "      <th>3</th>\n",
       "      <td>Andorra</td>\n",
       "      <td>20</td>\n",
       "      <td>2020-04-02</td>\n",
       "      <td>428.0</td>\n",
       "      <td>15.0</td>\n",
       "      <td>10.0</td>\n",
       "    </tr>\n",
       "    <tr>\n",
       "      <th>4</th>\n",
       "      <td>Angola</td>\n",
       "      <td>24</td>\n",
       "      <td>2020-04-02</td>\n",
       "      <td>8.0</td>\n",
       "      <td>2.0</td>\n",
       "      <td>1.0</td>\n",
       "    </tr>\n",
       "    <tr>\n",
       "      <th>...</th>\n",
       "      <td>...</td>\n",
       "      <td>...</td>\n",
       "      <td>...</td>\n",
       "      <td>...</td>\n",
       "      <td>...</td>\n",
       "      <td>...</td>\n",
       "    </tr>\n",
       "    <tr>\n",
       "      <th>169</th>\n",
       "      <td>Uzbekistan</td>\n",
       "      <td>860</td>\n",
       "      <td>2020-04-02</td>\n",
       "      <td>205.0</td>\n",
       "      <td>2.0</td>\n",
       "      <td>25.0</td>\n",
       "    </tr>\n",
       "    <tr>\n",
       "      <th>170</th>\n",
       "      <td>Venezuela</td>\n",
       "      <td>862</td>\n",
       "      <td>2020-04-02</td>\n",
       "      <td>146.0</td>\n",
       "      <td>5.0</td>\n",
       "      <td>43.0</td>\n",
       "    </tr>\n",
       "    <tr>\n",
       "      <th>171</th>\n",
       "      <td>Vietnam</td>\n",
       "      <td>704</td>\n",
       "      <td>2020-04-02</td>\n",
       "      <td>233.0</td>\n",
       "      <td>NaN</td>\n",
       "      <td>75.0</td>\n",
       "    </tr>\n",
       "    <tr>\n",
       "      <th>172</th>\n",
       "      <td>Zambia</td>\n",
       "      <td>894</td>\n",
       "      <td>2020-04-02</td>\n",
       "      <td>39.0</td>\n",
       "      <td>1.0</td>\n",
       "      <td>NaN</td>\n",
       "    </tr>\n",
       "    <tr>\n",
       "      <th>173</th>\n",
       "      <td>Zimbabwe</td>\n",
       "      <td>716</td>\n",
       "      <td>2020-04-02</td>\n",
       "      <td>9.0</td>\n",
       "      <td>1.0</td>\n",
       "      <td>NaN</td>\n",
       "    </tr>\n",
       "  </tbody>\n",
       "</table>\n",
       "<p>174 rows × 6 columns</p>\n",
       "</div>"
      ],
      "text/latex": [
       "None"
      ],
      "text/plain": [
       "status      country   id       date  confirmed  deaths  recovered\n",
       "0       Afghanistan    4 2020-04-02      273.0     6.0       10.0\n",
       "1           Albania    8 2020-04-02      277.0    16.0       76.0\n",
       "2           Algeria   12 2020-04-02      986.0    86.0       61.0\n",
       "3           Andorra   20 2020-04-02      428.0    15.0       10.0\n",
       "4            Angola   24 2020-04-02        8.0     2.0        1.0\n",
       "..              ...  ...        ...        ...     ...        ...\n",
       "169      Uzbekistan  860 2020-04-02      205.0     2.0       25.0\n",
       "170       Venezuela  862 2020-04-02      146.0     5.0       43.0\n",
       "171         Vietnam  704 2020-04-02      233.0     NaN       75.0\n",
       "172          Zambia  894 2020-04-02       39.0     1.0        NaN\n",
       "173        Zimbabwe  716 2020-04-02        9.0     1.0        NaN\n",
       "\n",
       "[174 rows x 6 columns]"
      ]
     },
     "execution_count": 136,
     "metadata": {},
     "output_type": "execute_result"
    }
   ],
   "source": [
    "map_data.set_index(['country', 'id', 'date', 'status']).drop('day', axis=1).unstack()['count'].reset_index()"
   ]
  },
  {
   "cell_type": "markdown",
   "metadata": {},
   "source": [
    "## Attempt: day slider in heatmap"
   ]
  },
  {
   "cell_type": "code",
   "execution_count": 119,
   "metadata": {},
   "outputs": [
    {
     "data": {
      "text/html": [
       "\n",
       "<div id=\"altair-viz-9955abb584574a7487d6be286e3647f2\"></div>\n",
       "<script type=\"text/javascript\">\n",
       "  (function(spec, embedOpt){\n",
       "    let outputDiv = document.currentScript.previousElementSibling;\n",
       "    if (outputDiv.id !== \"altair-viz-9955abb584574a7487d6be286e3647f2\") {\n",
       "      outputDiv = document.getElementById(\"altair-viz-9955abb584574a7487d6be286e3647f2\");\n",
       "    }\n",
       "    const paths = {\n",
       "      \"vega\": \"https://cdn.jsdelivr.net/npm//vega@5?noext\",\n",
       "      \"vega-lib\": \"https://cdn.jsdelivr.net/npm//vega-lib?noext\",\n",
       "      \"vega-lite\": \"https://cdn.jsdelivr.net/npm//vega-lite@4.8.1?noext\",\n",
       "      \"vega-embed\": \"https://cdn.jsdelivr.net/npm//vega-embed@6?noext\",\n",
       "    };\n",
       "\n",
       "    function loadScript(lib) {\n",
       "      return new Promise(function(resolve, reject) {\n",
       "        var s = document.createElement('script');\n",
       "        s.src = paths[lib];\n",
       "        s.async = true;\n",
       "        s.onload = () => resolve(paths[lib]);\n",
       "        s.onerror = () => reject(`Error loading script: ${paths[lib]}`);\n",
       "        document.getElementsByTagName(\"head\")[0].appendChild(s);\n",
       "      });\n",
       "    }\n",
       "\n",
       "    function showError(err) {\n",
       "      outputDiv.innerHTML = `<div class=\"error\" style=\"color:red;\">${err}</div>`;\n",
       "      throw err;\n",
       "    }\n",
       "\n",
       "    function displayChart(vegaEmbed) {\n",
       "      vegaEmbed(outputDiv, spec, embedOpt)\n",
       "        .catch(err => showError(`Javascript Error: ${err.message}<br>This usually means there's a typo in your chart specification. See the javascript console for the full traceback.`));\n",
       "    }\n",
       "\n",
       "    if(typeof define === \"function\" && define.amd) {\n",
       "      requirejs.config({paths});\n",
       "      require([\"vega-embed\"], displayChart, err => showError(`Error loading script: ${err.message}`));\n",
       "    } else if (typeof vegaEmbed === \"function\") {\n",
       "      displayChart(vegaEmbed);\n",
       "    } else {\n",
       "      loadScript(\"vega\")\n",
       "        .then(() => loadScript(\"vega-lite\"))\n",
       "        .then(() => loadScript(\"vega-embed\"))\n",
       "        .catch(showError)\n",
       "        .then(() => displayChart(vegaEmbed));\n",
       "    }\n",
       "  })({\"usermeta\": {\"embedOptions\": {\"theme\": \"fivethirtyeight\"}}, \"config\": {\"view\": {\"continuousWidth\": 400, \"continuousHeight\": 300}}, \"data\": {\"url\": \"https://vega.github.io/vega-datasets/data/world-110m.json\", \"format\": {\"feature\": \"countries\", \"type\": \"topojson\"}}, \"mark\": \"geoshape\", \"encoding\": {\"color\": {\"type\": \"quantitative\", \"field\": \"count\", \"scale\": {\"scheme\": \"reds\"}}, \"tooltip\": [{\"type\": \"quantitative\", \"field\": \"count\"}, {\"type\": \"nominal\", \"field\": \"country\"}, {\"type\": \"quantitative\", \"field\": \"day\"}]}, \"selection\": {\"day\": {\"type\": \"single\", \"fields\": [\"day\"], \"bind\": {\"input\": \"range\", \"max\": 93.0, \"min\": 22.0, \"step\": 1}, \"init\": {\"day\": 22.0}}}, \"transform\": [{\"lookup\": \"id\", \"from\": {\"data\": {\"url\": \"http://localhost:23313/24b3694ccfa9a9ef11eae4fbcfdb9c8f.json\"}, \"key\": \"id\", \"fields\": [\"22\", \"23\", \"24\", \"25\", \"26\", \"27\", \"28\", \"29\", \"30\", \"31\", \"32\", \"33\", \"34\", \"35\", \"36\", \"37\", \"38\", \"39\", \"40\", \"41\", \"42\", \"43\", \"44\", \"45\", \"46\", \"47\", \"48\", \"49\", \"50\", \"51\", \"52\", \"53\", \"54\", \"55\", \"56\", \"57\", \"58\", \"59\", \"60\", \"61\", \"62\", \"63\", \"64\", \"65\", \"66\", \"67\", \"68\", \"69\", \"70\", \"71\", \"72\", \"73\", \"74\", \"75\", \"76\", \"77\", \"78\", \"79\", \"80\", \"81\", \"82\", \"83\", \"84\", \"85\", \"86\", \"87\", \"88\", \"89\", \"90\", \"91\", \"92\", \"93\"]}}, {\"fold\": [\"22\", \"23\", \"24\", \"25\", \"26\", \"27\", \"28\", \"29\", \"30\", \"31\", \"32\", \"33\", \"34\", \"35\", \"36\", \"37\", \"38\", \"39\", \"40\", \"41\", \"42\", \"43\", \"44\", \"45\", \"46\", \"47\", \"48\", \"49\", \"50\", \"51\", \"52\", \"53\", \"54\", \"55\", \"56\", \"57\", \"58\", \"59\", \"60\", \"61\", \"62\", \"63\", \"64\", \"65\", \"66\", \"67\", \"68\", \"69\", \"70\", \"71\", \"72\", \"73\", \"74\", \"75\", \"76\", \"77\", \"78\", \"79\", \"80\", \"81\", \"82\", \"83\", \"84\", \"85\", \"86\", \"87\", \"88\", \"89\", \"90\", \"91\", \"92\", \"93\"], \"as\": [\"day\", \"count\"]}, {\"filter\": {\"selection\": \"day\"}}], \"$schema\": \"https://vega.github.io/schema/vega-lite/v4.8.1.json\"}, {\"mode\": \"vega-lite\"});\n",
       "</script>"
      ]
     },
     "execution_count": 119,
     "metadata": {},
     "output_type": "execute_result"
    }
   ],
   "source": [
    "countries = alt.topo_feature(data.world_110m.url, 'countries')\n",
    "\n",
    "china_data = map_data.query('country == \"China\"').query('status == \"confirmed\"')\n",
    "min_day = china_data.day.min()\n",
    "max_day = china_data.day.max()\n",
    "# china_data = china_data.pivot(index='fips', columns='year', values='Pill_per_pop').reset_index()\n",
    "china_data = china_data.set_index(['id', 'day'])['count'].unstack().reset_index()\n",
    "china_data.columns = china_data.columns.map(str)\n",
    "columns = list(china_data.columns.difference({'id'}))\n",
    "\n",
    "slider = alt.binding_range(min=min_day,\n",
    "                           max=max_day,\n",
    "                           step=1)\n",
    "\n",
    "select_day = alt.selection_single(name='day',\n",
    "                                   fields=['day'],\n",
    "                                   bind=slider,\n",
    "                                #   on='none',\n",
    "                                 init={'day': min_day}\n",
    "                                 )\n",
    "\n",
    "china_map = (alt\n",
    "             .Chart(countries)\n",
    "             .encode(\n",
    "                 tooltip=['count:Q', \n",
    "                          'country:N', \n",
    "                          'day:Q'])\n",
    "             .mark_geoshape()\n",
    "             .encode(\n",
    "                 color=alt.Color('count:Q', scale=alt.Scale(scheme='reds'))\n",
    "             )\n",
    "             .transform_lookup(\n",
    "                 lookup='id',\n",
    "                 from_=alt.LookupData(data=china_data,\n",
    "                                      key='id', \n",
    "                                      fields=columns)\n",
    "             ).transform_fold(\n",
    "                 columns, as_=['day', 'count']\n",
    "             ).add_selection(select_day)\n",
    "             .transform_filter(select_day)\n",
    "       )\n",
    "\n",
    "china_map"
   ]
  },
  {
   "cell_type": "code",
   "execution_count": 109,
   "metadata": {},
   "outputs": [
    {
     "data": {
      "text/html": [
       "<div>\n",
       "<style scoped>\n",
       "    .dataframe tbody tr th:only-of-type {\n",
       "        vertical-align: middle;\n",
       "    }\n",
       "\n",
       "    .dataframe tbody tr th {\n",
       "        vertical-align: top;\n",
       "    }\n",
       "\n",
       "    .dataframe thead th {\n",
       "        text-align: right;\n",
       "    }\n",
       "</style>\n",
       "<table border=\"1\" class=\"dataframe\">\n",
       "  <thead>\n",
       "    <tr style=\"text-align: right;\">\n",
       "      <th>day</th>\n",
       "      <th>id</th>\n",
       "      <th>22</th>\n",
       "      <th>23</th>\n",
       "      <th>24</th>\n",
       "      <th>25</th>\n",
       "      <th>26</th>\n",
       "      <th>27</th>\n",
       "      <th>28</th>\n",
       "      <th>29</th>\n",
       "      <th>30</th>\n",
       "      <th>31</th>\n",
       "      <th>32</th>\n",
       "      <th>33</th>\n",
       "      <th>34</th>\n",
       "      <th>35</th>\n",
       "      <th>36</th>\n",
       "      <th>37</th>\n",
       "      <th>38</th>\n",
       "      <th>39</th>\n",
       "      <th>40</th>\n",
       "      <th>41</th>\n",
       "      <th>42</th>\n",
       "      <th>43</th>\n",
       "      <th>44</th>\n",
       "      <th>45</th>\n",
       "      <th>46</th>\n",
       "      <th>47</th>\n",
       "      <th>48</th>\n",
       "      <th>49</th>\n",
       "      <th>50</th>\n",
       "      <th>51</th>\n",
       "      <th>52</th>\n",
       "      <th>53</th>\n",
       "      <th>54</th>\n",
       "      <th>55</th>\n",
       "      <th>56</th>\n",
       "      <th>57</th>\n",
       "      <th>58</th>\n",
       "      <th>59</th>\n",
       "      <th>60</th>\n",
       "      <th>61</th>\n",
       "      <th>62</th>\n",
       "      <th>63</th>\n",
       "      <th>64</th>\n",
       "      <th>65</th>\n",
       "      <th>66</th>\n",
       "      <th>67</th>\n",
       "      <th>68</th>\n",
       "      <th>69</th>\n",
       "      <th>70</th>\n",
       "      <th>71</th>\n",
       "      <th>72</th>\n",
       "      <th>73</th>\n",
       "      <th>74</th>\n",
       "      <th>75</th>\n",
       "      <th>76</th>\n",
       "      <th>77</th>\n",
       "      <th>78</th>\n",
       "      <th>79</th>\n",
       "      <th>80</th>\n",
       "      <th>81</th>\n",
       "      <th>82</th>\n",
       "      <th>83</th>\n",
       "      <th>84</th>\n",
       "      <th>85</th>\n",
       "      <th>86</th>\n",
       "      <th>87</th>\n",
       "      <th>88</th>\n",
       "      <th>89</th>\n",
       "      <th>90</th>\n",
       "      <th>91</th>\n",
       "      <th>92</th>\n",
       "      <th>93</th>\n",
       "    </tr>\n",
       "  </thead>\n",
       "  <tbody>\n",
       "    <tr>\n",
       "      <th>0</th>\n",
       "      <td>156</td>\n",
       "      <td>548.0</td>\n",
       "      <td>643.0</td>\n",
       "      <td>920.0</td>\n",
       "      <td>1406.0</td>\n",
       "      <td>2075.0</td>\n",
       "      <td>2877.0</td>\n",
       "      <td>5509.0</td>\n",
       "      <td>6087.0</td>\n",
       "      <td>8141.0</td>\n",
       "      <td>9802.0</td>\n",
       "      <td>11891.0</td>\n",
       "      <td>16630.0</td>\n",
       "      <td>19716.0</td>\n",
       "      <td>23707.0</td>\n",
       "      <td>27440.0</td>\n",
       "      <td>30587.0</td>\n",
       "      <td>34110.0</td>\n",
       "      <td>36814.0</td>\n",
       "      <td>39829.0</td>\n",
       "      <td>42354.0</td>\n",
       "      <td>44386.0</td>\n",
       "      <td>44759.0</td>\n",
       "      <td>59895.0</td>\n",
       "      <td>66358.0</td>\n",
       "      <td>68413.0</td>\n",
       "      <td>70513.0</td>\n",
       "      <td>72434.0</td>\n",
       "      <td>74211.0</td>\n",
       "      <td>74619.0</td>\n",
       "      <td>75077.0</td>\n",
       "      <td>75550.0</td>\n",
       "      <td>77001.0</td>\n",
       "      <td>77022.0</td>\n",
       "      <td>77241.0</td>\n",
       "      <td>77754.0</td>\n",
       "      <td>78166.0</td>\n",
       "      <td>78600.0</td>\n",
       "      <td>78928.0</td>\n",
       "      <td>79356.0</td>\n",
       "      <td>79932.0</td>\n",
       "      <td>80136.0</td>\n",
       "      <td>80261.0</td>\n",
       "      <td>80386.0</td>\n",
       "      <td>80537.0</td>\n",
       "      <td>80690.0</td>\n",
       "      <td>80770.0</td>\n",
       "      <td>80823.0</td>\n",
       "      <td>80860.0</td>\n",
       "      <td>80887.0</td>\n",
       "      <td>80921.0</td>\n",
       "      <td>80932.0</td>\n",
       "      <td>80945.0</td>\n",
       "      <td>80977.0</td>\n",
       "      <td>81003.0</td>\n",
       "      <td>81033.0</td>\n",
       "      <td>81058.0</td>\n",
       "      <td>81102.0</td>\n",
       "      <td>81156.0</td>\n",
       "      <td>81250.0</td>\n",
       "      <td>81305.0</td>\n",
       "      <td>81435.0</td>\n",
       "      <td>81498.0</td>\n",
       "      <td>81591.0</td>\n",
       "      <td>81661.0</td>\n",
       "      <td>81782.0</td>\n",
       "      <td>81897.0</td>\n",
       "      <td>81999.0</td>\n",
       "      <td>82122.0</td>\n",
       "      <td>82198.0</td>\n",
       "      <td>82279.0</td>\n",
       "      <td>82361.0</td>\n",
       "      <td>82432.0</td>\n",
       "    </tr>\n",
       "  </tbody>\n",
       "</table>\n",
       "</div>"
      ],
      "text/latex": [
       "None"
      ],
      "text/plain": [
       "day   id     22     23     24      25      26      27  ...       87       88       89       90       91       92       93\n",
       "0    156  548.0  643.0  920.0  1406.0  2075.0  2877.0  ...  81897.0  81999.0  82122.0  82198.0  82279.0  82361.0  82432.0\n",
       "\n",
       "[1 rows x 73 columns]"
      ]
     },
     "execution_count": 109,
     "metadata": {},
     "output_type": "execute_result"
    }
   ],
   "source": [
    "china_data"
   ]
  },
  {
   "cell_type": "code",
   "execution_count": 116,
   "metadata": {},
   "outputs": [
    {
     "data": {
      "text/plain": [
       "['22', '23', '24', '25', '26', '27', '28', '29', '30', '31', '32', '33', '34', '35', '36', '37', '38', '39', '40', '41', '42', '43', '44', '45', '46', '47', '48', '49', '50', '51', '52', '53', '54', '55', '56', '57', '58', '59', '60', '61', '62', '63', '64', '65', '66', '67', '68', '69', '70', '71', '72', '73', '74', '75', '76', '77', '78', '79', '80', '81', '82', '83', '84', '85', '86', '87', '88', '89', '90', '91', '92', '93']"
      ]
     },
     "execution_count": 116,
     "metadata": {},
     "output_type": "execute_result"
    }
   ],
   "source": [
    "columns"
   ]
  },
  {
   "cell_type": "code",
   "execution_count": 117,
   "metadata": {},
   "outputs": [
    {
     "data": {
      "text/plain": [
       "Index(['id', '22', '23', '24', '25', '26', '27', '28', '29', '30', '31', '32',\n",
       "       '33', '34', '35', '36', '37', '38', '39', '40', '41', '42', '43', '44',\n",
       "       '45', '46', '47', '48', '49', '50', '51', '52', '53', '54', '55', '56',\n",
       "       '57', '58', '59', '60', '61', '62', '63', '64', '65', '66', '67', '68',\n",
       "       '69', '70', '71', '72', '73', '74', '75', '76', '77', '78', '79', '80',\n",
       "       '81', '82', '83', '84', '85', '86', '87', '88', '89', '90', '91', '92',\n",
       "       '93'],\n",
       "      dtype='object', name='day')"
      ]
     },
     "execution_count": 117,
     "metadata": {},
     "output_type": "execute_result"
    }
   ],
   "source": [
    "china_data.columns"
   ]
  },
  {
   "cell_type": "markdown",
   "metadata": {},
   "source": [
    "# Correlations"
   ]
  },
  {
   "cell_type": "code",
   "execution_count": 11,
   "metadata": {},
   "outputs": [
    {
     "data": {
      "text/plain": [
       "<matplotlib.axes._subplots.AxesSubplot object at 0x7ff456b3cbe0>"
      ]
     },
     "execution_count": 11,
     "metadata": {},
     "output_type": "execute_result"
    }
   ],
   "source": [
    "import seaborn as sns\n",
    "\n",
    "df.groupby('country').apply(lambda f: f.fillna(method='ffill')).fillna(0).corr().pipe(sns.heatmap, annot=True)"
   ]
  },
  {
   "cell_type": "code",
   "execution_count": 12,
   "metadata": {},
   "outputs": [
    {
     "data": {
      "text/html": [
       "<div>\n",
       "<style scoped>\n",
       "    .dataframe tbody tr th:only-of-type {\n",
       "        vertical-align: middle;\n",
       "    }\n",
       "\n",
       "    .dataframe tbody tr th {\n",
       "        vertical-align: top;\n",
       "    }\n",
       "\n",
       "    .dataframe thead th {\n",
       "        text-align: right;\n",
       "    }\n",
       "</style>\n",
       "<table border=\"1\" class=\"dataframe\">\n",
       "  <thead>\n",
       "    <tr style=\"text-align: right;\">\n",
       "      <th></th>\n",
       "      <th>confirmed</th>\n",
       "      <th>deaths</th>\n",
       "      <th>recovered</th>\n",
       "    </tr>\n",
       "  </thead>\n",
       "  <tbody>\n",
       "    <tr>\n",
       "      <th>confirmed</th>\n",
       "      <td>1.000000</td>\n",
       "      <td>0.997479</td>\n",
       "      <td>0.946170</td>\n",
       "    </tr>\n",
       "    <tr>\n",
       "      <th>deaths</th>\n",
       "      <td>0.997479</td>\n",
       "      <td>1.000000</td>\n",
       "      <td>0.932249</td>\n",
       "    </tr>\n",
       "    <tr>\n",
       "      <th>recovered</th>\n",
       "      <td>0.946170</td>\n",
       "      <td>0.932249</td>\n",
       "      <td>1.000000</td>\n",
       "    </tr>\n",
       "  </tbody>\n",
       "</table>\n",
       "</div>"
      ],
      "text/latex": [
       "None"
      ],
      "text/plain": [
       "           confirmed    deaths  recovered\n",
       "confirmed   1.000000  0.997479   0.946170\n",
       "deaths      0.997479  1.000000   0.932249\n",
       "recovered   0.946170  0.932249   1.000000"
      ]
     },
     "execution_count": 12,
     "metadata": {},
     "output_type": "execute_result"
    }
   ],
   "source": [
    "df.groupby(['date']).sum().corr()"
   ]
  },
  {
   "cell_type": "code",
   "execution_count": 14,
   "metadata": {},
   "outputs": [],
   "source": [
    "def correlation_lags(df, column='deaths', max_lag=20, group=False):\n",
    "    def series_corr(f):\n",
    "        return pd.Series({t: f['confirmed'].shift(t).iloc[:-20].corr(f[column]) for t in range(max_lag)})\n",
    "    if group:\n",
    "        return df.groupby('country').apply(series_corr).idxmax(axis=1)\n",
    "    else:\n",
    "        return df.pipe(series_corr).idxmax(axis=0)\n",
    "\n",
    "world_ts = df.groupby('date').sum()\n",
    "days_to_death = correlation_lags(world_ts, 'deaths')\n",
    "days_to_recov = correlation_lags(world_ts, 'recovered')"
   ]
  },
  {
   "cell_type": "code",
   "execution_count": 18,
   "metadata": {},
   "outputs": [
    {
     "data": {
      "text/plain": [
       "(1, 19)"
      ]
     },
     "execution_count": 18,
     "metadata": {},
     "output_type": "execute_result"
    }
   ],
   "source": [
    "days_to_death, days_to_recov"
   ]
  },
  {
   "cell_type": "code",
   "execution_count": 20,
   "metadata": {},
   "outputs": [
    {
     "data": {
      "text/plain": [
       "<matplotlib.axes._subplots.AxesSubplot object at 0x7f472639bd68>"
      ]
     },
     "execution_count": 20,
     "metadata": {},
     "output_type": "execute_result"
    }
   ],
   "source": [
    "fatality_rates = (df.join(correlation_lags(df, group=True, column='deaths').rename('days_to_death').fillna(0).astype(int))\n",
    "                  .groupby('country')\n",
    "                  .apply(lambda g: g.deaths.div(g.confirmed.shift(g['days_to_death'].iloc[0])))\n",
    "                  .reset_index(0, drop=True)\n",
    "                 )\n",
    "fatality_rates.groupby('date').mean().plot()"
   ]
  },
  {
   "cell_type": "code",
   "execution_count": 23,
   "metadata": {},
   "outputs": [
    {
     "data": {
      "text/plain": [
       "<matplotlib.axes._subplots.AxesSubplot object at 0x7f472639bd68>"
      ]
     },
     "execution_count": 23,
     "metadata": {},
     "output_type": "execute_result"
    }
   ],
   "source": [
    "world_ts.deaths.div(world_ts.confirmed.shift(days_to_death)).plot()"
   ]
  }
 ],
 "metadata": {
  "kernelspec": {
   "display_name": "xpython",
   "language": "python",
   "name": "xpython"
  },
  "language_info": {
   "file_extension": ".py",
   "mimetype": "text/x-python",
   "name": "python",
   "version": "3.6.10"
  }
 },
 "nbformat": 4,
 "nbformat_minor": 4
}
